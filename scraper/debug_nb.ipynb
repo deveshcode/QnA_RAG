{
 "cells": [
  {
   "cell_type": "code",
   "execution_count": 16,
   "metadata": {},
   "outputs": [
    {
     "name": "stdout",
     "output_type": "stream",
     "text": [
      "Requirement already satisfied: requests in /Users/deveshsurve/anaconda3/envs/qnarag/lib/python3.10/site-packages (2.32.2)\n",
      "Requirement already satisfied: bs4 in /Users/deveshsurve/anaconda3/envs/qnarag/lib/python3.10/site-packages (0.0.2)\n",
      "Requirement already satisfied: charset-normalizer<4,>=2 in /Users/deveshsurve/anaconda3/envs/qnarag/lib/python3.10/site-packages (from requests) (3.3.2)\n",
      "Requirement already satisfied: idna<4,>=2.5 in /Users/deveshsurve/anaconda3/envs/qnarag/lib/python3.10/site-packages (from requests) (3.7)\n",
      "Requirement already satisfied: urllib3<3,>=1.21.1 in /Users/deveshsurve/anaconda3/envs/qnarag/lib/python3.10/site-packages (from requests) (2.2.1)\n",
      "Requirement already satisfied: certifi>=2017.4.17 in /Users/deveshsurve/anaconda3/envs/qnarag/lib/python3.10/site-packages (from requests) (2024.2.2)\n",
      "Requirement already satisfied: beautifulsoup4 in /Users/deveshsurve/anaconda3/envs/qnarag/lib/python3.10/site-packages (from bs4) (4.12.3)\n",
      "Requirement already satisfied: soupsieve>1.2 in /Users/deveshsurve/anaconda3/envs/qnarag/lib/python3.10/site-packages (from beautifulsoup4->bs4) (2.5)\n"
     ]
    }
   ],
   "source": [
    "!pip install requests bs4"
   ]
  },
  {
   "cell_type": "code",
   "execution_count": 19,
   "metadata": {},
   "outputs": [
    {
     "name": "stdout",
     "output_type": "stream",
     "text": [
      "FAQs saved to faqs.json\n"
     ]
    }
   ],
   "source": [
    "import requests\n",
    "from bs4 import BeautifulSoup\n",
    "import json\n",
    "import logging\n",
    "\n",
    "# Configure logging\n",
    "logging.basicConfig(level=logging.INFO, format='%(asctime)s - %(levelname)s - %(message)s')\n",
    "\n",
    "def fetch_webpage(url):\n",
    "    \"\"\"Fetches the webpage content from the given URL.\"\"\"\n",
    "    try:\n",
    "        response = requests.get(url)\n",
    "        response.raise_for_status()\n",
    "        return response.content\n",
    "    except requests.exceptions.RequestException as e:\n",
    "        logging.error(f\"Error fetching the webpage: {e}\")\n",
    "        return None\n",
    "\n",
    "def parse_faqs(html_content):\n",
    "    \"\"\"Parses the FAQ questions and answers from the HTML content.\"\"\"\n",
    "    soup = BeautifulSoup(html_content, \"html.parser\")\n",
    "    faq_elements = soup.find_all(\"div\", class_=\"rich-text-body\")\n",
    "    \n",
    "    faqs = []\n",
    "    for i in range(0, len(faq_elements) - 1, 2):\n",
    "        question = faq_elements[i].get_text(strip=True)\n",
    "        answer = faq_elements[i + 1].get_text(strip=True)\n",
    "        faqs.append({\"question\": question, \"answer\": answer})\n",
    "    \n",
    "    return faqs\n",
    "\n",
    "def save_to_json(data, filename):\n",
    "    \"\"\"Saves the data to a JSON file.\"\"\"\n",
    "    try:\n",
    "        with open(filename, \"w\") as f:\n",
    "            json.dump(data, f, indent=4)\n",
    "        logging.info(f\"FAQs saved to {filename}\")\n",
    "    except IOError as e:\n",
    "        logging.error(f\"Error saving to JSON file: {e}\")\n",
    "\n",
    "def main(url, output_file):\n",
    "    \"\"\"Main function to fetch, parse, and save FAQs.\"\"\"\n",
    "    html_content = fetch_webpage(url)\n",
    "    if html_content:\n",
    "        faqs = parse_faqs(html_content)\n",
    "        save_to_json(faqs, output_file)\n",
    "\n",
    "if __name__ == \"__main__\":\n",
    "    URL = \"https://www.databricks.com/product/faq\"\n",
    "    OUTPUT_FILE = \"faqs.json\"\n",
    "    \n",
    "    main(URL, OUTPUT_FILE)\n"
   ]
  },
  {
   "cell_type": "code",
   "execution_count": null,
   "metadata": {},
   "outputs": [],
   "source": []
  },
  {
   "cell_type": "code",
   "execution_count": null,
   "metadata": {},
   "outputs": [],
   "source": []
  }
 ],
 "metadata": {
  "kernelspec": {
   "display_name": "qnarag",
   "language": "python",
   "name": "python3"
  },
  "language_info": {
   "codemirror_mode": {
    "name": "ipython",
    "version": 3
   },
   "file_extension": ".py",
   "mimetype": "text/x-python",
   "name": "python",
   "nbconvert_exporter": "python",
   "pygments_lexer": "ipython3",
   "version": "3.10.14"
  }
 },
 "nbformat": 4,
 "nbformat_minor": 2
}
